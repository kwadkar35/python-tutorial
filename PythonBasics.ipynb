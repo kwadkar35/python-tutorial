{
  "nbformat": 4,
  "nbformat_minor": 0,
  "metadata": {
    "colab": {
      "provenance": [],
      "authorship_tag": "ABX9TyPi5hE9SEX1hZ1PqbyMtO/Z",
      "include_colab_link": true
    },
    "kernelspec": {
      "name": "python3",
      "display_name": "Python 3"
    },
    "language_info": {
      "name": "python"
    }
  },
  "cells": [
    {
      "cell_type": "markdown",
      "metadata": {
        "id": "view-in-github",
        "colab_type": "text"
      },
      "source": [
        "<a href=\"https://colab.research.google.com/github/kwadkar35/python-tutorial/blob/main/PythonBasics.ipynb\" target=\"_parent\"><img src=\"https://colab.research.google.com/assets/colab-badge.svg\" alt=\"Open In Colab\"/></a>"
      ]
    },
    {
      "cell_type": "markdown",
      "source": [
        "# Variable\n"
      ],
      "metadata": {
        "id": "_hkLjmxVKDiK"
      }
    },
    {
      "cell_type": "code",
      "source": [
        "# STRING\n",
        "name = \"Kiran\"\n",
        "\n",
        "#INT\n",
        "salary= 6000000\n",
        "\n",
        "#Float\n",
        "height= 170.0\n",
        "\n",
        "#Boolean\n",
        "is_employee= True\n",
        "\n"
      ],
      "metadata": {
        "id": "XQNLfCd9KJzR"
      },
      "execution_count": null,
      "outputs": []
    },
    {
      "cell_type": "markdown",
      "source": [
        "# String Formatting\n"
      ],
      "metadata": {
        "id": "Vw8nWUc7LUuQ"
      }
    },
    {
      "cell_type": "code",
      "source": [
        "print(f\"My name is: {name},Salary is: {salary},Height is :{height},is employee: {is_employee}\")"
      ],
      "metadata": {
        "colab": {
          "base_uri": "https://localhost:8080/"
        },
        "id": "RHjFfr2ILfhi",
        "outputId": "24bd7907-6595-4021-8440-3bfd1189a107"
      },
      "execution_count": null,
      "outputs": [
        {
          "output_type": "stream",
          "name": "stdout",
          "text": [
            "My name is: Kiran,Salary is: 6000000,Height is :170.0,is employee: True\n"
          ]
        }
      ]
    }
  ]
}